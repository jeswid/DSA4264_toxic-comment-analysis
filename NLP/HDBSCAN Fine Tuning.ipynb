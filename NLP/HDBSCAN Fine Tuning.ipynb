{
  "nbformat": 4,
  "nbformat_minor": 0,
  "metadata": {
    "colab": {
      "provenance": []
    },
    "kernelspec": {
      "name": "python3",
      "display_name": "Python 3"
    },
    "language_info": {
      "name": "python"
    },
    "widgets": {
      "application/vnd.jupyter.widget-state+json": {
        "1de1373798ef4bd0aac4f609bb56bc75": {
          "model_module": "@jupyter-widgets/controls",
          "model_name": "HBoxModel",
          "model_module_version": "1.5.0",
          "state": {
            "_dom_classes": [],
            "_model_module": "@jupyter-widgets/controls",
            "_model_module_version": "1.5.0",
            "_model_name": "HBoxModel",
            "_view_count": null,
            "_view_module": "@jupyter-widgets/controls",
            "_view_module_version": "1.5.0",
            "_view_name": "HBoxView",
            "box_style": "",
            "children": [
              "IPY_MODEL_c8193380a02e497698f122418a07b3e4",
              "IPY_MODEL_5fc94e10d0d84530a9219aa1b300e8a4",
              "IPY_MODEL_d7decb4401414600bfb41966963a9133"
            ],
            "layout": "IPY_MODEL_58370a6e069845e583aeffec36a34de0"
          }
        },
        "c8193380a02e497698f122418a07b3e4": {
          "model_module": "@jupyter-widgets/controls",
          "model_name": "HTMLModel",
          "model_module_version": "1.5.0",
          "state": {
            "_dom_classes": [],
            "_model_module": "@jupyter-widgets/controls",
            "_model_module_version": "1.5.0",
            "_model_name": "HTMLModel",
            "_view_count": null,
            "_view_module": "@jupyter-widgets/controls",
            "_view_module_version": "1.5.0",
            "_view_name": "HTMLView",
            "description": "",
            "description_tooltip": null,
            "layout": "IPY_MODEL_5b589242e52f4ec1957a5a67cb3a2fde",
            "placeholder": "​",
            "style": "IPY_MODEL_375690e065d14768993982aad3d82727",
            "value": "Batches: 100%"
          }
        },
        "5fc94e10d0d84530a9219aa1b300e8a4": {
          "model_module": "@jupyter-widgets/controls",
          "model_name": "FloatProgressModel",
          "model_module_version": "1.5.0",
          "state": {
            "_dom_classes": [],
            "_model_module": "@jupyter-widgets/controls",
            "_model_module_version": "1.5.0",
            "_model_name": "FloatProgressModel",
            "_view_count": null,
            "_view_module": "@jupyter-widgets/controls",
            "_view_module_version": "1.5.0",
            "_view_name": "ProgressView",
            "bar_style": "success",
            "description": "",
            "description_tooltip": null,
            "layout": "IPY_MODEL_31b36e06e6f7491488c7334bfdf50445",
            "max": 1750,
            "min": 0,
            "orientation": "horizontal",
            "style": "IPY_MODEL_853bf06949e0411c9fba0cd0bed00ec8",
            "value": 1750
          }
        },
        "d7decb4401414600bfb41966963a9133": {
          "model_module": "@jupyter-widgets/controls",
          "model_name": "HTMLModel",
          "model_module_version": "1.5.0",
          "state": {
            "_dom_classes": [],
            "_model_module": "@jupyter-widgets/controls",
            "_model_module_version": "1.5.0",
            "_model_name": "HTMLModel",
            "_view_count": null,
            "_view_module": "@jupyter-widgets/controls",
            "_view_module_version": "1.5.0",
            "_view_name": "HTMLView",
            "description": "",
            "description_tooltip": null,
            "layout": "IPY_MODEL_2b574b85cec44066904449e475af5082",
            "placeholder": "​",
            "style": "IPY_MODEL_c0f07f18486e48c79488012369c5529d",
            "value": " 1750/1750 [26:37&lt;00:00,  4.15it/s]"
          }
        },
        "58370a6e069845e583aeffec36a34de0": {
          "model_module": "@jupyter-widgets/base",
          "model_name": "LayoutModel",
          "model_module_version": "1.2.0",
          "state": {
            "_model_module": "@jupyter-widgets/base",
            "_model_module_version": "1.2.0",
            "_model_name": "LayoutModel",
            "_view_count": null,
            "_view_module": "@jupyter-widgets/base",
            "_view_module_version": "1.2.0",
            "_view_name": "LayoutView",
            "align_content": null,
            "align_items": null,
            "align_self": null,
            "border": null,
            "bottom": null,
            "display": null,
            "flex": null,
            "flex_flow": null,
            "grid_area": null,
            "grid_auto_columns": null,
            "grid_auto_flow": null,
            "grid_auto_rows": null,
            "grid_column": null,
            "grid_gap": null,
            "grid_row": null,
            "grid_template_areas": null,
            "grid_template_columns": null,
            "grid_template_rows": null,
            "height": null,
            "justify_content": null,
            "justify_items": null,
            "left": null,
            "margin": null,
            "max_height": null,
            "max_width": null,
            "min_height": null,
            "min_width": null,
            "object_fit": null,
            "object_position": null,
            "order": null,
            "overflow": null,
            "overflow_x": null,
            "overflow_y": null,
            "padding": null,
            "right": null,
            "top": null,
            "visibility": null,
            "width": null
          }
        },
        "5b589242e52f4ec1957a5a67cb3a2fde": {
          "model_module": "@jupyter-widgets/base",
          "model_name": "LayoutModel",
          "model_module_version": "1.2.0",
          "state": {
            "_model_module": "@jupyter-widgets/base",
            "_model_module_version": "1.2.0",
            "_model_name": "LayoutModel",
            "_view_count": null,
            "_view_module": "@jupyter-widgets/base",
            "_view_module_version": "1.2.0",
            "_view_name": "LayoutView",
            "align_content": null,
            "align_items": null,
            "align_self": null,
            "border": null,
            "bottom": null,
            "display": null,
            "flex": null,
            "flex_flow": null,
            "grid_area": null,
            "grid_auto_columns": null,
            "grid_auto_flow": null,
            "grid_auto_rows": null,
            "grid_column": null,
            "grid_gap": null,
            "grid_row": null,
            "grid_template_areas": null,
            "grid_template_columns": null,
            "grid_template_rows": null,
            "height": null,
            "justify_content": null,
            "justify_items": null,
            "left": null,
            "margin": null,
            "max_height": null,
            "max_width": null,
            "min_height": null,
            "min_width": null,
            "object_fit": null,
            "object_position": null,
            "order": null,
            "overflow": null,
            "overflow_x": null,
            "overflow_y": null,
            "padding": null,
            "right": null,
            "top": null,
            "visibility": null,
            "width": null
          }
        },
        "375690e065d14768993982aad3d82727": {
          "model_module": "@jupyter-widgets/controls",
          "model_name": "DescriptionStyleModel",
          "model_module_version": "1.5.0",
          "state": {
            "_model_module": "@jupyter-widgets/controls",
            "_model_module_version": "1.5.0",
            "_model_name": "DescriptionStyleModel",
            "_view_count": null,
            "_view_module": "@jupyter-widgets/base",
            "_view_module_version": "1.2.0",
            "_view_name": "StyleView",
            "description_width": ""
          }
        },
        "31b36e06e6f7491488c7334bfdf50445": {
          "model_module": "@jupyter-widgets/base",
          "model_name": "LayoutModel",
          "model_module_version": "1.2.0",
          "state": {
            "_model_module": "@jupyter-widgets/base",
            "_model_module_version": "1.2.0",
            "_model_name": "LayoutModel",
            "_view_count": null,
            "_view_module": "@jupyter-widgets/base",
            "_view_module_version": "1.2.0",
            "_view_name": "LayoutView",
            "align_content": null,
            "align_items": null,
            "align_self": null,
            "border": null,
            "bottom": null,
            "display": null,
            "flex": null,
            "flex_flow": null,
            "grid_area": null,
            "grid_auto_columns": null,
            "grid_auto_flow": null,
            "grid_auto_rows": null,
            "grid_column": null,
            "grid_gap": null,
            "grid_row": null,
            "grid_template_areas": null,
            "grid_template_columns": null,
            "grid_template_rows": null,
            "height": null,
            "justify_content": null,
            "justify_items": null,
            "left": null,
            "margin": null,
            "max_height": null,
            "max_width": null,
            "min_height": null,
            "min_width": null,
            "object_fit": null,
            "object_position": null,
            "order": null,
            "overflow": null,
            "overflow_x": null,
            "overflow_y": null,
            "padding": null,
            "right": null,
            "top": null,
            "visibility": null,
            "width": null
          }
        },
        "853bf06949e0411c9fba0cd0bed00ec8": {
          "model_module": "@jupyter-widgets/controls",
          "model_name": "ProgressStyleModel",
          "model_module_version": "1.5.0",
          "state": {
            "_model_module": "@jupyter-widgets/controls",
            "_model_module_version": "1.5.0",
            "_model_name": "ProgressStyleModel",
            "_view_count": null,
            "_view_module": "@jupyter-widgets/base",
            "_view_module_version": "1.2.0",
            "_view_name": "StyleView",
            "bar_color": null,
            "description_width": ""
          }
        },
        "2b574b85cec44066904449e475af5082": {
          "model_module": "@jupyter-widgets/base",
          "model_name": "LayoutModel",
          "model_module_version": "1.2.0",
          "state": {
            "_model_module": "@jupyter-widgets/base",
            "_model_module_version": "1.2.0",
            "_model_name": "LayoutModel",
            "_view_count": null,
            "_view_module": "@jupyter-widgets/base",
            "_view_module_version": "1.2.0",
            "_view_name": "LayoutView",
            "align_content": null,
            "align_items": null,
            "align_self": null,
            "border": null,
            "bottom": null,
            "display": null,
            "flex": null,
            "flex_flow": null,
            "grid_area": null,
            "grid_auto_columns": null,
            "grid_auto_flow": null,
            "grid_auto_rows": null,
            "grid_column": null,
            "grid_gap": null,
            "grid_row": null,
            "grid_template_areas": null,
            "grid_template_columns": null,
            "grid_template_rows": null,
            "height": null,
            "justify_content": null,
            "justify_items": null,
            "left": null,
            "margin": null,
            "max_height": null,
            "max_width": null,
            "min_height": null,
            "min_width": null,
            "object_fit": null,
            "object_position": null,
            "order": null,
            "overflow": null,
            "overflow_x": null,
            "overflow_y": null,
            "padding": null,
            "right": null,
            "top": null,
            "visibility": null,
            "width": null
          }
        },
        "c0f07f18486e48c79488012369c5529d": {
          "model_module": "@jupyter-widgets/controls",
          "model_name": "DescriptionStyleModel",
          "model_module_version": "1.5.0",
          "state": {
            "_model_module": "@jupyter-widgets/controls",
            "_model_module_version": "1.5.0",
            "_model_name": "DescriptionStyleModel",
            "_view_count": null,
            "_view_module": "@jupyter-widgets/base",
            "_view_module_version": "1.2.0",
            "_view_name": "StyleView",
            "description_width": ""
          }
        }
      }
    }
  },
  "cells": [
    {
      "cell_type": "markdown",
      "source": [
        "### Import libraries"
      ],
      "metadata": {
        "id": "g434Y6rkmgK8"
      }
    },
    {
      "cell_type": "code",
      "source": [
        "import pandas as pd\n",
        "import warnings\n",
        "import gensim\n",
        "import numpy as np\n",
        "import plotly.express as px\n",
        "import sklearn\n",
        "\n",
        "import nltk\n",
        "from nltk.corpus import stopwords\n",
        "from nltk.tokenize import word_tokenize\n",
        "from nltk.stem import WordNetLemmatizer\n",
        "from nltk.sentiment.vader import SentimentIntensityAnalyzer\n",
        "import string\n",
        "import re\n",
        "import spacy\n",
        "\n",
        "import numpy as np\n",
        "import hdbscan\n",
        "from sklearn.datasets import make_blobs\n",
        "from sklearn.model_selection import RandomizedSearchCV\n",
        "from sklearn.base import BaseEstimator, ClusterMixin\n",
        "from sklearn.metrics import make_scorer\n",
        "\n",
        "import matplotlib.pyplot as plt\n",
        "\n",
        "!pip install bertopic\n",
        "from bertopic import BERTopic\n",
        "import umap\n",
        "\n",
        "!pip install sentence-transformers # Install the necessary library\n",
        "from sentence_transformers import SentenceTransformer # Import the SentenceTransformer class\n",
        "\n",
        "warnings.simplefilter('ignore')"
      ],
      "metadata": {
        "colab": {
          "base_uri": "https://localhost:8080/"
        },
        "id": "8chRnTG5mYfR",
        "outputId": "68bfde9b-dddc-4f69-8418-aeefb1f70320"
      },
      "execution_count": 8,
      "outputs": [
        {
          "output_type": "stream",
          "name": "stdout",
          "text": [
            "Requirement already satisfied: bertopic in /usr/local/lib/python3.10/dist-packages (0.16.4)\n",
            "Requirement already satisfied: hdbscan>=0.8.29 in /usr/local/lib/python3.10/dist-packages (from bertopic) (0.8.39)\n",
            "Requirement already satisfied: numpy>=1.20.0 in /usr/local/lib/python3.10/dist-packages (from bertopic) (1.26.4)\n",
            "Requirement already satisfied: pandas>=1.1.5 in /usr/local/lib/python3.10/dist-packages (from bertopic) (2.2.2)\n",
            "Requirement already satisfied: plotly>=4.7.0 in /usr/local/lib/python3.10/dist-packages (from bertopic) (5.24.1)\n",
            "Requirement already satisfied: scikit-learn>=0.22.2.post1 in /usr/local/lib/python3.10/dist-packages (from bertopic) (1.5.2)\n",
            "Requirement already satisfied: sentence-transformers>=0.4.1 in /usr/local/lib/python3.10/dist-packages (from bertopic) (3.2.1)\n",
            "Requirement already satisfied: tqdm>=4.41.1 in /usr/local/lib/python3.10/dist-packages (from bertopic) (4.66.6)\n",
            "Requirement already satisfied: umap-learn>=0.5.0 in /usr/local/lib/python3.10/dist-packages (from bertopic) (0.5.7)\n",
            "Requirement already satisfied: scipy>=1.0 in /usr/local/lib/python3.10/dist-packages (from hdbscan>=0.8.29->bertopic) (1.13.1)\n",
            "Requirement already satisfied: joblib>=1.0 in /usr/local/lib/python3.10/dist-packages (from hdbscan>=0.8.29->bertopic) (1.4.2)\n",
            "Requirement already satisfied: python-dateutil>=2.8.2 in /usr/local/lib/python3.10/dist-packages (from pandas>=1.1.5->bertopic) (2.8.2)\n",
            "Requirement already satisfied: pytz>=2020.1 in /usr/local/lib/python3.10/dist-packages (from pandas>=1.1.5->bertopic) (2024.2)\n",
            "Requirement already satisfied: tzdata>=2022.7 in /usr/local/lib/python3.10/dist-packages (from pandas>=1.1.5->bertopic) (2024.2)\n",
            "Requirement already satisfied: tenacity>=6.2.0 in /usr/local/lib/python3.10/dist-packages (from plotly>=4.7.0->bertopic) (9.0.0)\n",
            "Requirement already satisfied: packaging in /usr/local/lib/python3.10/dist-packages (from plotly>=4.7.0->bertopic) (24.1)\n",
            "Requirement already satisfied: threadpoolctl>=3.1.0 in /usr/local/lib/python3.10/dist-packages (from scikit-learn>=0.22.2.post1->bertopic) (3.5.0)\n",
            "Requirement already satisfied: transformers<5.0.0,>=4.41.0 in /usr/local/lib/python3.10/dist-packages (from sentence-transformers>=0.4.1->bertopic) (4.44.2)\n",
            "Requirement already satisfied: torch>=1.11.0 in /usr/local/lib/python3.10/dist-packages (from sentence-transformers>=0.4.1->bertopic) (2.5.0+cu121)\n",
            "Requirement already satisfied: huggingface-hub>=0.20.0 in /usr/local/lib/python3.10/dist-packages (from sentence-transformers>=0.4.1->bertopic) (0.24.7)\n",
            "Requirement already satisfied: Pillow in /usr/local/lib/python3.10/dist-packages (from sentence-transformers>=0.4.1->bertopic) (10.4.0)\n",
            "Requirement already satisfied: numba>=0.51.2 in /usr/local/lib/python3.10/dist-packages (from umap-learn>=0.5.0->bertopic) (0.60.0)\n",
            "Requirement already satisfied: pynndescent>=0.5 in /usr/local/lib/python3.10/dist-packages (from umap-learn>=0.5.0->bertopic) (0.5.13)\n",
            "Requirement already satisfied: filelock in /usr/local/lib/python3.10/dist-packages (from huggingface-hub>=0.20.0->sentence-transformers>=0.4.1->bertopic) (3.16.1)\n",
            "Requirement already satisfied: fsspec>=2023.5.0 in /usr/local/lib/python3.10/dist-packages (from huggingface-hub>=0.20.0->sentence-transformers>=0.4.1->bertopic) (2024.10.0)\n",
            "Requirement already satisfied: pyyaml>=5.1 in /usr/local/lib/python3.10/dist-packages (from huggingface-hub>=0.20.0->sentence-transformers>=0.4.1->bertopic) (6.0.2)\n",
            "Requirement already satisfied: requests in /usr/local/lib/python3.10/dist-packages (from huggingface-hub>=0.20.0->sentence-transformers>=0.4.1->bertopic) (2.32.3)\n",
            "Requirement already satisfied: typing-extensions>=3.7.4.3 in /usr/local/lib/python3.10/dist-packages (from huggingface-hub>=0.20.0->sentence-transformers>=0.4.1->bertopic) (4.12.2)\n",
            "Requirement already satisfied: llvmlite<0.44,>=0.43.0dev0 in /usr/local/lib/python3.10/dist-packages (from numba>=0.51.2->umap-learn>=0.5.0->bertopic) (0.43.0)\n",
            "Requirement already satisfied: six>=1.5 in /usr/local/lib/python3.10/dist-packages (from python-dateutil>=2.8.2->pandas>=1.1.5->bertopic) (1.16.0)\n",
            "Requirement already satisfied: networkx in /usr/local/lib/python3.10/dist-packages (from torch>=1.11.0->sentence-transformers>=0.4.1->bertopic) (3.4.2)\n",
            "Requirement already satisfied: jinja2 in /usr/local/lib/python3.10/dist-packages (from torch>=1.11.0->sentence-transformers>=0.4.1->bertopic) (3.1.4)\n",
            "Requirement already satisfied: sympy==1.13.1 in /usr/local/lib/python3.10/dist-packages (from torch>=1.11.0->sentence-transformers>=0.4.1->bertopic) (1.13.1)\n",
            "Requirement already satisfied: mpmath<1.4,>=1.1.0 in /usr/local/lib/python3.10/dist-packages (from sympy==1.13.1->torch>=1.11.0->sentence-transformers>=0.4.1->bertopic) (1.3.0)\n",
            "Requirement already satisfied: regex!=2019.12.17 in /usr/local/lib/python3.10/dist-packages (from transformers<5.0.0,>=4.41.0->sentence-transformers>=0.4.1->bertopic) (2024.9.11)\n",
            "Requirement already satisfied: safetensors>=0.4.1 in /usr/local/lib/python3.10/dist-packages (from transformers<5.0.0,>=4.41.0->sentence-transformers>=0.4.1->bertopic) (0.4.5)\n",
            "Requirement already satisfied: tokenizers<0.20,>=0.19 in /usr/local/lib/python3.10/dist-packages (from transformers<5.0.0,>=4.41.0->sentence-transformers>=0.4.1->bertopic) (0.19.1)\n",
            "Requirement already satisfied: MarkupSafe>=2.0 in /usr/local/lib/python3.10/dist-packages (from jinja2->torch>=1.11.0->sentence-transformers>=0.4.1->bertopic) (3.0.2)\n",
            "Requirement already satisfied: charset-normalizer<4,>=2 in /usr/local/lib/python3.10/dist-packages (from requests->huggingface-hub>=0.20.0->sentence-transformers>=0.4.1->bertopic) (3.4.0)\n",
            "Requirement already satisfied: idna<4,>=2.5 in /usr/local/lib/python3.10/dist-packages (from requests->huggingface-hub>=0.20.0->sentence-transformers>=0.4.1->bertopic) (3.10)\n",
            "Requirement already satisfied: urllib3<3,>=1.21.1 in /usr/local/lib/python3.10/dist-packages (from requests->huggingface-hub>=0.20.0->sentence-transformers>=0.4.1->bertopic) (2.2.3)\n",
            "Requirement already satisfied: certifi>=2017.4.17 in /usr/local/lib/python3.10/dist-packages (from requests->huggingface-hub>=0.20.0->sentence-transformers>=0.4.1->bertopic) (2024.8.30)\n",
            "Requirement already satisfied: sentence-transformers in /usr/local/lib/python3.10/dist-packages (3.2.1)\n",
            "Requirement already satisfied: transformers<5.0.0,>=4.41.0 in /usr/local/lib/python3.10/dist-packages (from sentence-transformers) (4.44.2)\n",
            "Requirement already satisfied: tqdm in /usr/local/lib/python3.10/dist-packages (from sentence-transformers) (4.66.6)\n",
            "Requirement already satisfied: torch>=1.11.0 in /usr/local/lib/python3.10/dist-packages (from sentence-transformers) (2.5.0+cu121)\n",
            "Requirement already satisfied: scikit-learn in /usr/local/lib/python3.10/dist-packages (from sentence-transformers) (1.5.2)\n",
            "Requirement already satisfied: scipy in /usr/local/lib/python3.10/dist-packages (from sentence-transformers) (1.13.1)\n",
            "Requirement already satisfied: huggingface-hub>=0.20.0 in /usr/local/lib/python3.10/dist-packages (from sentence-transformers) (0.24.7)\n",
            "Requirement already satisfied: Pillow in /usr/local/lib/python3.10/dist-packages (from sentence-transformers) (10.4.0)\n",
            "Requirement already satisfied: filelock in /usr/local/lib/python3.10/dist-packages (from huggingface-hub>=0.20.0->sentence-transformers) (3.16.1)\n",
            "Requirement already satisfied: fsspec>=2023.5.0 in /usr/local/lib/python3.10/dist-packages (from huggingface-hub>=0.20.0->sentence-transformers) (2024.10.0)\n",
            "Requirement already satisfied: packaging>=20.9 in /usr/local/lib/python3.10/dist-packages (from huggingface-hub>=0.20.0->sentence-transformers) (24.1)\n",
            "Requirement already satisfied: pyyaml>=5.1 in /usr/local/lib/python3.10/dist-packages (from huggingface-hub>=0.20.0->sentence-transformers) (6.0.2)\n",
            "Requirement already satisfied: requests in /usr/local/lib/python3.10/dist-packages (from huggingface-hub>=0.20.0->sentence-transformers) (2.32.3)\n",
            "Requirement already satisfied: typing-extensions>=3.7.4.3 in /usr/local/lib/python3.10/dist-packages (from huggingface-hub>=0.20.0->sentence-transformers) (4.12.2)\n",
            "Requirement already satisfied: networkx in /usr/local/lib/python3.10/dist-packages (from torch>=1.11.0->sentence-transformers) (3.4.2)\n",
            "Requirement already satisfied: jinja2 in /usr/local/lib/python3.10/dist-packages (from torch>=1.11.0->sentence-transformers) (3.1.4)\n",
            "Requirement already satisfied: sympy==1.13.1 in /usr/local/lib/python3.10/dist-packages (from torch>=1.11.0->sentence-transformers) (1.13.1)\n",
            "Requirement already satisfied: mpmath<1.4,>=1.1.0 in /usr/local/lib/python3.10/dist-packages (from sympy==1.13.1->torch>=1.11.0->sentence-transformers) (1.3.0)\n",
            "Requirement already satisfied: numpy>=1.17 in /usr/local/lib/python3.10/dist-packages (from transformers<5.0.0,>=4.41.0->sentence-transformers) (1.26.4)\n",
            "Requirement already satisfied: regex!=2019.12.17 in /usr/local/lib/python3.10/dist-packages (from transformers<5.0.0,>=4.41.0->sentence-transformers) (2024.9.11)\n",
            "Requirement already satisfied: safetensors>=0.4.1 in /usr/local/lib/python3.10/dist-packages (from transformers<5.0.0,>=4.41.0->sentence-transformers) (0.4.5)\n",
            "Requirement already satisfied: tokenizers<0.20,>=0.19 in /usr/local/lib/python3.10/dist-packages (from transformers<5.0.0,>=4.41.0->sentence-transformers) (0.19.1)\n",
            "Requirement already satisfied: joblib>=1.2.0 in /usr/local/lib/python3.10/dist-packages (from scikit-learn->sentence-transformers) (1.4.2)\n",
            "Requirement already satisfied: threadpoolctl>=3.1.0 in /usr/local/lib/python3.10/dist-packages (from scikit-learn->sentence-transformers) (3.5.0)\n",
            "Requirement already satisfied: MarkupSafe>=2.0 in /usr/local/lib/python3.10/dist-packages (from jinja2->torch>=1.11.0->sentence-transformers) (3.0.2)\n",
            "Requirement already satisfied: charset-normalizer<4,>=2 in /usr/local/lib/python3.10/dist-packages (from requests->huggingface-hub>=0.20.0->sentence-transformers) (3.4.0)\n",
            "Requirement already satisfied: idna<4,>=2.5 in /usr/local/lib/python3.10/dist-packages (from requests->huggingface-hub>=0.20.0->sentence-transformers) (3.10)\n",
            "Requirement already satisfied: urllib3<3,>=1.21.1 in /usr/local/lib/python3.10/dist-packages (from requests->huggingface-hub>=0.20.0->sentence-transformers) (2.2.3)\n",
            "Requirement already satisfied: certifi>=2017.4.17 in /usr/local/lib/python3.10/dist-packages (from requests->huggingface-hub>=0.20.0->sentence-transformers) (2024.8.30)\n"
          ]
        }
      ]
    },
    {
      "cell_type": "markdown",
      "source": [
        "### Loading in datasets"
      ],
      "metadata": {
        "id": "eBCF1Aqgle5Y"
      }
    },
    {
      "cell_type": "code",
      "source": [
        "from google.colab import drive\n",
        "drive.mount('/content/drive')"
      ],
      "metadata": {
        "colab": {
          "base_uri": "https://localhost:8080/"
        },
        "id": "yGUXfS7qo2hE",
        "outputId": "7e5815ad-8bd1-4b4d-bd91-d941c29a8071"
      },
      "execution_count": 9,
      "outputs": [
        {
          "output_type": "stream",
          "name": "stdout",
          "text": [
            "Drive already mounted at /content/drive; to attempt to forcibly remount, call drive.mount(\"/content/drive\", force_remount=True).\n"
          ]
        }
      ]
    },
    {
      "cell_type": "code",
      "source": [
        "data_2022_long = pd.read_csv('/content/drive/My Drive/UNI/data_2022_long.csv')"
      ],
      "metadata": {
        "id": "-RHm_raglQUo"
      },
      "execution_count": 10,
      "outputs": []
    },
    {
      "cell_type": "code",
      "source": [
        "data_2020_long = pd.read_csv('/content/drive/My Drive/UNI/data_2020_long.csv')"
      ],
      "metadata": {
        "id": "KWWyxzc4P1Ni"
      },
      "execution_count": 11,
      "outputs": []
    },
    {
      "cell_type": "markdown",
      "source": [
        "##Random Sampling"
      ],
      "metadata": {
        "id": "OKFPV3VFalNS"
      }
    },
    {
      "source": [
        "import pandas as pd\n",
        "# Convert 'timestamp' column to datetime objects\n",
        "data_2022_long['timestamp'] = pd.to_datetime(data_2022_long['timestamp'])\n",
        "data_2020_long['timestamp'] = pd.to_datetime(data_2020_long['timestamp'])\n",
        "\n",
        "# Now you can extract the year\n",
        "data_2022_long['year'] = data_2022_long['timestamp'].dt.year\n",
        "data_2020_long['year'] = data_2020_long['timestamp'].dt.year  # Corrected line\n",
        "data_2022_long['month'] = data_2022_long['timestamp'].dt.month\n",
        "data_2020_long['month'] = data_2020_long['timestamp'].dt.month\n",
        "\n",
        "# Now you can perform the groupby and filter operations\n",
        "data_2022_text = data_2022_long[data_2022_long['year'] == 2022]\n",
        "data_2023_text = data_2022_long[data_2022_long['year'] == 2023]\n",
        "data_2020_text = data_2020_long[data_2020_long['year'] == 2020]\n",
        "# Assuming you have data_2021_long loaded and processed similarly\n",
        "# data_2021_text = data_2021_long[data_2021_long['year'] == 2021]"
      ],
      "cell_type": "code",
      "metadata": {
        "id": "tvG4aLDWckIl"
      },
      "execution_count": 12,
      "outputs": []
    },
    {
      "cell_type": "code",
      "source": [
        "# Define the total sample size and the number of samples to take\n",
        "total_sample_size = 23000\n",
        "\n",
        "# Calculate the number of unique combinations of 'time' and 'subreddit_id'\n",
        "strata = data_2022_long.groupby(['month', 'subreddit_id']).size().reset_index(name='counts')\n",
        "\n",
        "# Calculate the fraction of each stratum to sample based on its size\n",
        "strata['sampling_fraction'] = strata['counts'] / strata['counts'].sum()\n",
        "\n",
        "# Determine how many samples to take from each stratum\n",
        "strata['samples'] = (strata['sampling_fraction'] * total_sample_size).round().astype(int)\n",
        "\n",
        "# Sample from each stratum\n",
        "samples = []\n",
        "for _, row in strata.iterrows():\n",
        "    stratum = data_2022_long[(data_2022_long['month'] == row['month']) & (data_2022_long['subreddit_id'] == row['subreddit_id'])]\n",
        "    sampled_rows = stratum.sample(n=row['samples'], random_state=1)\n",
        "    samples.append(sampled_rows)\n",
        "\n",
        "# Concatenate all samples into a single DataFrame\n",
        "sampled_df_2022 = pd.concat(samples, ignore_index=True)\n",
        "\n",
        "# If the total sampled rows is less than 20,000, you can randomly sample the remaining rows from the entire DataFrame\n",
        "if len(sampled_df_2022) < total_sample_size:\n",
        "    remaining_rows = data_2022_long.sample(n=total_sample_size - len(sampled_df_2022), random_state=1)\n",
        "    sampled_df = pd.concat([sampled_df_2022, remaining_rows], ignore_index=True)\n"
      ],
      "metadata": {
        "id": "3h3ZrsGbp0ew"
      },
      "execution_count": 15,
      "outputs": []
    },
    {
      "cell_type": "code",
      "source": [
        "33000/1345325 #Sampling about 2.5% of the data"
      ],
      "metadata": {
        "id": "9fSv7POfp71t",
        "colab": {
          "base_uri": "https://localhost:8080/"
        },
        "outputId": "d2bbc41e-c188-4b0d-a2cd-8e9481a9c9b0"
      },
      "execution_count": 17,
      "outputs": [
        {
          "output_type": "execute_result",
          "data": {
            "text/plain": [
              "0.024529388809395498"
            ]
          },
          "metadata": {},
          "execution_count": 17
        }
      ]
    },
    {
      "cell_type": "code",
      "source": [
        "# Define the total sample size and the number of samples to take\n",
        "total_sample_size = 33000\n",
        "\n",
        "# Calculate the number of unique combinations of 'time' and 'subreddit_id'\n",
        "strata = data_2020_long.groupby(['month', 'subreddit_id']).size().reset_index(name='counts')\n",
        "\n",
        "# Calculate the fraction of each stratum to sample based on its size\n",
        "strata['sampling_fraction'] = strata['counts'] / strata['counts'].sum()\n",
        "\n",
        "# Determine how many samples to take from each stratum\n",
        "strata['samples'] = (strata['sampling_fraction'] * total_sample_size).round().astype(int)\n",
        "\n",
        "# Sample from each stratum\n",
        "samples = []\n",
        "for _, row in strata.iterrows():\n",
        "    stratum = data_2020_long[(data_2020_long['month'] == row['month']) & (data_2020_long['subreddit_id'] == row['subreddit_id'])]\n",
        "    sampled_rows = stratum.sample(n=row['samples'], random_state=1)\n",
        "    samples.append(sampled_rows)\n",
        "\n",
        "# Concatenate all samples into a single DataFrame\n",
        "sampled_df_2020 = pd.concat(samples, ignore_index=True)\n",
        "\n",
        "# If the total sampled rows is less than 20,000, you can randomly sample the remaining rows from the entire DataFrame\n",
        "if len(data_2020_long) < total_sample_size:\n",
        "    remaining_rows = data_2020_long.sample(n=total_sample_size - len(sampled_df_2020), random_state=1)\n",
        "    sampled_df = pd.concat([sampled_df_2020, remaining_rows], ignore_index=True)"
      ],
      "metadata": {
        "id": "vhuq2n5cqE6n"
      },
      "execution_count": 18,
      "outputs": []
    },
    {
      "cell_type": "code",
      "source": [
        "sample_data = pd.concat([sampled_df_2020, sampled_df_2022], ignore_index=True)"
      ],
      "metadata": {
        "id": "c-KSbDdsqMj2"
      },
      "execution_count": 19,
      "outputs": []
    },
    {
      "cell_type": "markdown",
      "source": [
        "## Tuning"
      ],
      "metadata": {
        "id": "Gc1M8PiArICY"
      }
    },
    {
      "cell_type": "code",
      "source": [
        "SEED = 42"
      ],
      "metadata": {
        "id": "33xUnBzVAzRn"
      },
      "execution_count": 21,
      "outputs": []
    },
    {
      "cell_type": "code",
      "source": [
        "#step 1 - generate embeddings\n",
        "model = SentenceTransformer(\"all-MiniLM-L6-v2\")  # Use an SBERT model for embedding\n",
        "embeddings = model.encode(sample_data['text'].tolist(), show_progress_bar=True)"
      ],
      "metadata": {
        "id": "ycbv0cIVAsvC",
        "colab": {
          "base_uri": "https://localhost:8080/",
          "height": 49,
          "referenced_widgets": [
            "1de1373798ef4bd0aac4f609bb56bc75",
            "c8193380a02e497698f122418a07b3e4",
            "5fc94e10d0d84530a9219aa1b300e8a4",
            "d7decb4401414600bfb41966963a9133",
            "58370a6e069845e583aeffec36a34de0",
            "5b589242e52f4ec1957a5a67cb3a2fde",
            "375690e065d14768993982aad3d82727",
            "31b36e06e6f7491488c7334bfdf50445",
            "853bf06949e0411c9fba0cd0bed00ec8",
            "2b574b85cec44066904449e475af5082",
            "c0f07f18486e48c79488012369c5529d"
          ]
        },
        "outputId": "b36d34cb-9f25-4905-c441-ba1c74bc5185"
      },
      "execution_count": 23,
      "outputs": [
        {
          "output_type": "display_data",
          "data": {
            "text/plain": [
              "Batches:   0%|          | 0/1750 [00:00<?, ?it/s]"
            ],
            "application/vnd.jupyter.widget-view+json": {
              "version_major": 2,
              "version_minor": 0,
              "model_id": "1de1373798ef4bd0aac4f609bb56bc75"
            }
          },
          "metadata": {}
        }
      ]
    },
    {
      "cell_type": "code",
      "source": [
        "# Step 2: Reduce Dimensionality with UMAP\n",
        "fitted_umap = umap.UMAP(n_neighbors=15, n_components=10, metric='cosine', low_memory=False, random_state = SEED).fit(embeddings)\n",
        "umap_embeddings = fitted_umap.embedding_"
      ],
      "metadata": {
        "id": "8qn3A_SFAqJP"
      },
      "execution_count": 24,
      "outputs": []
    },
    {
      "cell_type": "code",
      "source": [
        "import numpy as np\n",
        "import hdbscan\n",
        "from itertools import product\n",
        "from scipy.spatial.distance import pdist, squareform\n",
        "from sklearn.metrics.pairwise import euclidean_distances\n"
      ],
      "metadata": {
        "id": "Qc9-5ad4lo-k"
      },
      "execution_count": 43,
      "outputs": []
    },
    {
      "cell_type": "code",
      "source": [
        "# Define a function to calculate the DBCV score based on the paper's methodology\n",
        "def calculate_dbvc_score(data, labels):\n",
        "    # Calculate pairwise distances using Euclidean metric\n",
        "    distances = squareform(pdist(data, metric='euclidean'))\n",
        "    return hdbscan.validity.validity_index(distances, labels)\n"
      ],
      "metadata": {
        "id": "UF2u8T81Allq"
      },
      "execution_count": 44,
      "outputs": []
    },
    {
      "cell_type": "code",
      "execution_count": 48,
      "metadata": {
        "id": "-u21fdmZAfkk"
      },
      "outputs": [],
      "source": [
        "# Function to tune HDBSCAN parameters using DBCV score\n",
        "def tune_hdbscan(data, min_cluster_sizes, min_samples_values):\n",
        "    best_dbvc_score = -np.inf\n",
        "    best_params = None\n",
        "    best_model = None\n",
        "\n",
        "    # Convert parameter values to ensure they are integers\n",
        "    min_cluster_sizes = [int(x) for x in min_cluster_sizes]\n",
        "    min_samples_values = [int(x) for x in min_samples_values]\n",
        "\n",
        "    for min_cluster_size, min_samples in product(min_cluster_sizes, min_samples_values):\n",
        "        # Initialize HDBSCAN with specified parameters\n",
        "        clusterer = hdbscan.HDBSCAN(\n",
        "            min_cluster_size=min_cluster_size,\n",
        "            min_samples=min_samples,\n",
        "            metric='euclidean',  # You can change this to 'manhattan' if you decide to test it\n",
        "            cluster_selection_method='eom'\n",
        "        )\n",
        "        clusterer.fit(data)\n",
        "\n",
        "        # Only calculate DBCV score if there is more than one cluster\n",
        "        if len(set(clusterer.labels_)) > 1:  # Exclude noise-only cases\n",
        "            dbvc_score = calculate_dbvc_score(data, clusterer.labels_)\n",
        "            if dbvc_score > best_dbvc_score:\n",
        "                best_dbvc_score = dbvc_score\n",
        "                best_params = (min_cluster_size, min_samples)\n",
        "                best_model = clusterer\n",
        "\n",
        "    return best_model, best_params, best_dbvc_score"
      ]
    },
    {
      "cell_type": "code",
      "source": [
        "# Set up parameter distribution for RandomizedSearchCV\n",
        "min_samples_values = [5, 10, 15, 20]\n",
        "min_cluster_sizes = [250, 300, 350, 400]"
      ],
      "metadata": {
        "id": "5l_imoPFBAcB"
      },
      "execution_count": 53,
      "outputs": []
    },
    {
      "cell_type": "code",
      "source": [
        "best_model, best_params, best_dbvc_score = tune_hdbscan(umap_embeddings, min_cluster_sizes, min_samples_values)"
      ],
      "metadata": {
        "id": "A0f9cIZeBCSM"
      },
      "execution_count": null,
      "outputs": []
    },
    {
      "cell_type": "code",
      "source": [
        "print(f\"Best Parameters: min_cluster_size={best_params[0]}, min_samples={best_params[1]}\")\n",
        "print(f\"Best DBCV Score: {best_dbvc_score}\")"
      ],
      "metadata": {
        "id": "Ce13whD9G4U2"
      },
      "execution_count": null,
      "outputs": []
    },
    {
      "cell_type": "code",
      "source": [
        "#best parameters are: min_samples = 5, min_cluster_size = 300, cluster_selection_method = \"eom\", metric = \"euclidean\""
      ],
      "metadata": {
        "id": "QuujtcQR1wby"
      },
      "execution_count": 33,
      "outputs": []
    }
  ]
}