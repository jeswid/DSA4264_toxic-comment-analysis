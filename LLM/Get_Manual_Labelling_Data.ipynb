{
 "cells": [
  {
   "cell_type": "code",
   "execution_count": 10,
   "metadata": {},
   "outputs": [],
   "source": [
    "import pandas as pd"
   ]
  },
  {
   "cell_type": "code",
   "execution_count": 11,
   "metadata": {},
   "outputs": [],
   "source": [
    "reddit_df = pd.read_csv(\"cleaned_data_2223.csv\")"
   ]
  },
  {
   "cell_type": "code",
   "execution_count": 12,
   "metadata": {},
   "outputs": [
    {
     "data": {
      "text/plain": [
       "1823749"
      ]
     },
     "execution_count": 12,
     "metadata": {},
     "output_type": "execute_result"
    }
   ],
   "source": [
    "len(reddit_df)"
   ]
  },
  {
   "cell_type": "code",
   "execution_count": 13,
   "metadata": {},
   "outputs": [
    {
     "data": {
      "text/plain": [
       "0.18188687149382946"
      ]
     },
     "execution_count": 13,
     "metadata": {},
     "output_type": "execute_result"
    }
   ],
   "source": [
    "# random sampling stratified by topic\n",
    "rsingaporeraw = reddit_df[reddit_df['link'].str.startswith('/r/SingaporeRaw/')]\n",
    "rsgraw_ratio = len(rsingaporeraw)/len(reddit_df)\n",
    "rsgraw_ratio"
   ]
  },
  {
   "cell_type": "code",
   "execution_count": 14,
   "metadata": {},
   "outputs": [
    {
     "data": {
      "text/plain": [
       "0.02546951362276278"
      ]
     },
     "execution_count": 14,
     "metadata": {},
     "output_type": "execute_result"
    }
   ],
   "source": [
    "rsingaporehappening = reddit_df[reddit_df['link'].str.startswith('/r/singaporehappenings/')]\n",
    "rsghappening_ratio = len(rsingaporehappening)/len(reddit_df)\n",
    "rsghappening_ratio"
   ]
  },
  {
   "cell_type": "code",
   "execution_count": 15,
   "metadata": {},
   "outputs": [
    {
     "data": {
      "text/plain": [
       "0.7926436148834077"
      ]
     },
     "execution_count": 15,
     "metadata": {},
     "output_type": "execute_result"
    }
   ],
   "source": [
    "subset = reddit_df[~reddit_df['link'].str.startswith('/r/singaporehappenings/')]\n",
    "rsingapore = subset[subset['link'].str.startswith('/r/singapore/')]\n",
    "rsingapore_ratio = len(rsingapore)/len(reddit_df)\n",
    "rsingapore_ratio"
   ]
  },
  {
   "cell_type": "code",
   "execution_count": 16,
   "metadata": {},
   "outputs": [
    {
     "data": {
      "text/html": [
       "<div>\n",
       "<style scoped>\n",
       "    .dataframe tbody tr th:only-of-type {\n",
       "        vertical-align: middle;\n",
       "    }\n",
       "\n",
       "    .dataframe tbody tr th {\n",
       "        vertical-align: top;\n",
       "    }\n",
       "\n",
       "    .dataframe thead th {\n",
       "        text-align: right;\n",
       "    }\n",
       "</style>\n",
       "<table border=\"1\" class=\"dataframe\">\n",
       "  <thead>\n",
       "    <tr style=\"text-align: right;\">\n",
       "      <th></th>\n",
       "      <th>Unnamed: 0</th>\n",
       "      <th>text</th>\n",
       "      <th>timestamp</th>\n",
       "      <th>username</th>\n",
       "      <th>link</th>\n",
       "      <th>link_id</th>\n",
       "      <th>parent_id</th>\n",
       "      <th>id</th>\n",
       "      <th>subreddit_id</th>\n",
       "      <th>moderation</th>\n",
       "      <th>original text</th>\n",
       "    </tr>\n",
       "  </thead>\n",
       "  <tbody>\n",
       "    <tr>\n",
       "      <th>972545</th>\n",
       "      <td>1057760</td>\n",
       "      <td>americans hold beer oh wait ive finished drinking</td>\n",
       "      <td>2022-01-24 05:25:27</td>\n",
       "      <td>MrFantasticallyNerdy</td>\n",
       "      <td>/r/SingaporeRaw/comments/sao76t/we_are_spendin...</td>\n",
       "      <td>t3_sao76t</td>\n",
       "      <td>t3_sao76t</td>\n",
       "      <td>htzg3uf</td>\n",
       "      <td>t5_xnx04</td>\n",
       "      <td>{'controversiality': 0, 'collapsed_reason_code...</td>\n",
       "      <td>Americans: Hold my beer. Oh wait. I've already...</td>\n",
       "    </tr>\n",
       "    <tr>\n",
       "      <th>13347</th>\n",
       "      <td>14500</td>\n",
       "      <td>boss relies heavily pass holders start asking ...</td>\n",
       "      <td>2022-05-06 10:50:15</td>\n",
       "      <td>SimpleReadingSG90</td>\n",
       "      <td>/r/SingaporeRaw/comments/ujhtgu/rants_of_a_19y...</td>\n",
       "      <td>t3_ujhtgu</td>\n",
       "      <td>t1_i7j8gnf</td>\n",
       "      <td>i7jextx</td>\n",
       "      <td>t5_xnx04</td>\n",
       "      <td>{'controversiality': 0, 'collapsed_reason_code...</td>\n",
       "      <td>And the boss who relies heavily on S Pass hold...</td>\n",
       "    </tr>\n",
       "    <tr>\n",
       "      <th>461901</th>\n",
       "      <td>502383</td>\n",
       "      <td>mean youre paid much wipe youre tears money ea...</td>\n",
       "      <td>2022-05-08 05:02:44</td>\n",
       "      <td>OldFee3150</td>\n",
       "      <td>/r/SingaporeRaw/comments/ujddhe/chan_chun_sing...</td>\n",
       "      <td>t3_ujddhe</td>\n",
       "      <td>t3_ujddhe</td>\n",
       "      <td>i7rioq7</td>\n",
       "      <td>t5_xnx04</td>\n",
       "      <td>{'controversiality': 0, 'collapsed_reason_code...</td>\n",
       "      <td>I mean if you’re being paid that much should j...</td>\n",
       "    </tr>\n",
       "    <tr>\n",
       "      <th>1094356</th>\n",
       "      <td>1190080</td>\n",
       "      <td>lol idea hes singing singapore practice sang w...</td>\n",
       "      <td>2022-09-27 06:09:30</td>\n",
       "      <td>kopisiutaidaily</td>\n",
       "      <td>/r/SingaporeRaw/comments/xonblv/communist_taxi...</td>\n",
       "      <td>t3_xonblv</td>\n",
       "      <td>t3_xonblv</td>\n",
       "      <td>iq2n4xp</td>\n",
       "      <td>t5_xnx04</td>\n",
       "      <td>{'controversiality': 0, 'collapsed_reason_code...</td>\n",
       "      <td>Lol he has no idea what he’s singing. If Singa...</td>\n",
       "    </tr>\n",
       "    <tr>\n",
       "      <th>1153986</th>\n",
       "      <td>1254859</td>\n",
       "      <td>would probably change sgkl railway line opens</td>\n",
       "      <td>2023-08-09 04:33:32</td>\n",
       "      <td>TaylorFritz</td>\n",
       "      <td>/r/SingaporeRaw/comments/15m2a52/why_do_singap...</td>\n",
       "      <td>t3_15m2a52</td>\n",
       "      <td>t1_jveg4qj</td>\n",
       "      <td>jveglrl</td>\n",
       "      <td>t5_xnx04</td>\n",
       "      <td>{'banned_at_utc': None, 'mod_reason_by': None,...</td>\n",
       "      <td>That would probably change once the SG-KL rail...</td>\n",
       "    </tr>\n",
       "    <tr>\n",
       "      <th>...</th>\n",
       "      <td>...</td>\n",
       "      <td>...</td>\n",
       "      <td>...</td>\n",
       "      <td>...</td>\n",
       "      <td>...</td>\n",
       "      <td>...</td>\n",
       "      <td>...</td>\n",
       "      <td>...</td>\n",
       "      <td>...</td>\n",
       "      <td>...</td>\n",
       "      <td>...</td>\n",
       "    </tr>\n",
       "    <tr>\n",
       "      <th>847882</th>\n",
       "      <td>922205</td>\n",
       "      <td>yo thats night snack muffin ate last week haha...</td>\n",
       "      <td>2023-05-08 02:57:20</td>\n",
       "      <td>Rogueone65</td>\n",
       "      <td>/r/singapore/comments/13b8w1z/sq207_sin_to_mel...</td>\n",
       "      <td>t3_13b8w1z</td>\n",
       "      <td>t3_13b8w1z</td>\n",
       "      <td>jjaiifo</td>\n",
       "      <td>t5_2qh8c</td>\n",
       "      <td>{'banned_at_utc': None, 'mod_reason_by': None,...</td>\n",
       "      <td>Yo that’s the night snack muffin I ate last we...</td>\n",
       "    </tr>\n",
       "    <tr>\n",
       "      <th>1377594</th>\n",
       "      <td>1498060</td>\n",
       "      <td>hello thank posting singapore seems previously...</td>\n",
       "      <td>2023-08-21 16:01:39</td>\n",
       "      <td>ModeratelyUsefulBot</td>\n",
       "      <td>/r/singapore/comments/15x9vq1/public_hospitals...</td>\n",
       "      <td>t3_15x9vq1</td>\n",
       "      <td>t3_15x9vq1</td>\n",
       "      <td>jx5avr9</td>\n",
       "      <td>t5_2qh8c</td>\n",
       "      <td>{'banned_at_utc': None, 'mod_reason_by': None,...</td>\n",
       "      <td>Hello and thank you for posting to singapore! ...</td>\n",
       "    </tr>\n",
       "    <tr>\n",
       "      <th>1498756</th>\n",
       "      <td>1629859</td>\n",
       "      <td>guys celebrate vesak day too</td>\n",
       "      <td>2023-05-26 22:18:28</td>\n",
       "      <td>brownriver12</td>\n",
       "      <td>/r/singapore/comments/13spsi3/rsingapore_rando...</td>\n",
       "      <td>t3_13spsi3</td>\n",
       "      <td>t1_jlr58id</td>\n",
       "      <td>jlr5ecb</td>\n",
       "      <td>t5_2qh8c</td>\n",
       "      <td>{'banned_at_utc': None, 'mod_reason_by': None,...</td>\n",
       "      <td>You guys celebrate vesak day too?🤣</td>\n",
       "    </tr>\n",
       "    <tr>\n",
       "      <th>1312718</th>\n",
       "      <td>1427653</td>\n",
       "      <td>stand upon shoulders giants walked may run ins...</td>\n",
       "      <td>2022-08-24 04:03:51</td>\n",
       "      <td>fish312</td>\n",
       "      <td>/r/singapore/comments/ww82t0/from_aug_29_masks...</td>\n",
       "      <td>t3_ww82t0</td>\n",
       "      <td>t1_iljpegw</td>\n",
       "      <td>iljvxm7</td>\n",
       "      <td>t5_2qh8c</td>\n",
       "      <td>{'controversiality': 0, 'collapsed_reason_code...</td>\n",
       "      <td>We stand upon the shoulders of giants. She wal...</td>\n",
       "    </tr>\n",
       "    <tr>\n",
       "      <th>655848</th>\n",
       "      <td>713362</td>\n",
       "      <td>oh crap skimmed need tattoo removal services d...</td>\n",
       "      <td>2023-04-29 03:14:22</td>\n",
       "      <td>Turbografx220</td>\n",
       "      <td>/r/singapore/comments/132h8jg/tattoo_removals_...</td>\n",
       "      <td>t3_132h8jg</td>\n",
       "      <td>t1_ji53apm</td>\n",
       "      <td>ji53onk</td>\n",
       "      <td>t5_2qh8c</td>\n",
       "      <td>{'banned_at_utc': None, 'mod_reason_by': None,...</td>\n",
       "      <td>Oh crap I skimmed it.\\n\\nWe need more of tatto...</td>\n",
       "    </tr>\n",
       "  </tbody>\n",
       "</table>\n",
       "<p>200 rows × 11 columns</p>\n",
       "</div>"
      ],
      "text/plain": [
       "         Unnamed: 0                                               text  \\\n",
       "972545      1057760  americans hold beer oh wait ive finished drinking   \n",
       "13347         14500  boss relies heavily pass holders start asking ...   \n",
       "461901       502383  mean youre paid much wipe youre tears money ea...   \n",
       "1094356     1190080  lol idea hes singing singapore practice sang w...   \n",
       "1153986     1254859      would probably change sgkl railway line opens   \n",
       "...             ...                                                ...   \n",
       "847882       922205  yo thats night snack muffin ate last week haha...   \n",
       "1377594     1498060  hello thank posting singapore seems previously...   \n",
       "1498756     1629859                       guys celebrate vesak day too   \n",
       "1312718     1427653  stand upon shoulders giants walked may run ins...   \n",
       "655848       713362  oh crap skimmed need tattoo removal services d...   \n",
       "\n",
       "                   timestamp              username  \\\n",
       "972545   2022-01-24 05:25:27  MrFantasticallyNerdy   \n",
       "13347    2022-05-06 10:50:15     SimpleReadingSG90   \n",
       "461901   2022-05-08 05:02:44            OldFee3150   \n",
       "1094356  2022-09-27 06:09:30       kopisiutaidaily   \n",
       "1153986  2023-08-09 04:33:32           TaylorFritz   \n",
       "...                      ...                   ...   \n",
       "847882   2023-05-08 02:57:20            Rogueone65   \n",
       "1377594  2023-08-21 16:01:39   ModeratelyUsefulBot   \n",
       "1498756  2023-05-26 22:18:28          brownriver12   \n",
       "1312718  2022-08-24 04:03:51               fish312   \n",
       "655848   2023-04-29 03:14:22         Turbografx220   \n",
       "\n",
       "                                                      link     link_id  \\\n",
       "972545   /r/SingaporeRaw/comments/sao76t/we_are_spendin...   t3_sao76t   \n",
       "13347    /r/SingaporeRaw/comments/ujhtgu/rants_of_a_19y...   t3_ujhtgu   \n",
       "461901   /r/SingaporeRaw/comments/ujddhe/chan_chun_sing...   t3_ujddhe   \n",
       "1094356  /r/SingaporeRaw/comments/xonblv/communist_taxi...   t3_xonblv   \n",
       "1153986  /r/SingaporeRaw/comments/15m2a52/why_do_singap...  t3_15m2a52   \n",
       "...                                                    ...         ...   \n",
       "847882   /r/singapore/comments/13b8w1z/sq207_sin_to_mel...  t3_13b8w1z   \n",
       "1377594  /r/singapore/comments/15x9vq1/public_hospitals...  t3_15x9vq1   \n",
       "1498756  /r/singapore/comments/13spsi3/rsingapore_rando...  t3_13spsi3   \n",
       "1312718  /r/singapore/comments/ww82t0/from_aug_29_masks...   t3_ww82t0   \n",
       "655848   /r/singapore/comments/132h8jg/tattoo_removals_...  t3_132h8jg   \n",
       "\n",
       "          parent_id       id subreddit_id  \\\n",
       "972545    t3_sao76t  htzg3uf     t5_xnx04   \n",
       "13347    t1_i7j8gnf  i7jextx     t5_xnx04   \n",
       "461901    t3_ujddhe  i7rioq7     t5_xnx04   \n",
       "1094356   t3_xonblv  iq2n4xp     t5_xnx04   \n",
       "1153986  t1_jveg4qj  jveglrl     t5_xnx04   \n",
       "...             ...      ...          ...   \n",
       "847882   t3_13b8w1z  jjaiifo     t5_2qh8c   \n",
       "1377594  t3_15x9vq1  jx5avr9     t5_2qh8c   \n",
       "1498756  t1_jlr58id  jlr5ecb     t5_2qh8c   \n",
       "1312718  t1_iljpegw  iljvxm7     t5_2qh8c   \n",
       "655848   t1_ji53apm  ji53onk     t5_2qh8c   \n",
       "\n",
       "                                                moderation  \\\n",
       "972545   {'controversiality': 0, 'collapsed_reason_code...   \n",
       "13347    {'controversiality': 0, 'collapsed_reason_code...   \n",
       "461901   {'controversiality': 0, 'collapsed_reason_code...   \n",
       "1094356  {'controversiality': 0, 'collapsed_reason_code...   \n",
       "1153986  {'banned_at_utc': None, 'mod_reason_by': None,...   \n",
       "...                                                    ...   \n",
       "847882   {'banned_at_utc': None, 'mod_reason_by': None,...   \n",
       "1377594  {'banned_at_utc': None, 'mod_reason_by': None,...   \n",
       "1498756  {'banned_at_utc': None, 'mod_reason_by': None,...   \n",
       "1312718  {'controversiality': 0, 'collapsed_reason_code...   \n",
       "655848   {'banned_at_utc': None, 'mod_reason_by': None,...   \n",
       "\n",
       "                                             original text  \n",
       "972545   Americans: Hold my beer. Oh wait. I've already...  \n",
       "13347    And the boss who relies heavily on S Pass hold...  \n",
       "461901   I mean if you’re being paid that much should j...  \n",
       "1094356  Lol he has no idea what he’s singing. If Singa...  \n",
       "1153986  That would probably change once the SG-KL rail...  \n",
       "...                                                    ...  \n",
       "847882   Yo that’s the night snack muffin I ate last we...  \n",
       "1377594  Hello and thank you for posting to singapore! ...  \n",
       "1498756                 You guys celebrate vesak day too?🤣  \n",
       "1312718  We stand upon the shoulders of giants. She wal...  \n",
       "655848   Oh crap I skimmed it.\\n\\nWe need more of tatto...  \n",
       "\n",
       "[200 rows x 11 columns]"
      ]
     },
     "execution_count": 16,
     "metadata": {},
     "output_type": "execute_result"
    }
   ],
   "source": [
    "# get data to be manually labelled\n",
    "label_size = 200\n",
    "manual_label_df = pd.concat([\n",
    "    rsingaporeraw.sample(n=round(rsgraw_ratio * label_size), random_state=500), \n",
    "    rsingaporehappening.sample(n=round(rsghappening_ratio * label_size), random_state=500),\n",
    "    rsingapore.sample(n=round(rsingapore_ratio * label_size), random_state=500)\n",
    "])\n",
    "manual_label_df"
   ]
  },
  {
   "cell_type": "code",
   "execution_count": null,
   "metadata": {},
   "outputs": [],
   "source": [
    "manual_label_df.to_excel('manual_label_sample.xlsx')"
   ]
  }
 ],
 "metadata": {
  "kernelspec": {
   "display_name": "base",
   "language": "python",
   "name": "python3"
  },
  "language_info": {
   "codemirror_mode": {
    "name": "ipython",
    "version": 3
   },
   "file_extension": ".py",
   "mimetype": "text/x-python",
   "name": "python",
   "nbconvert_exporter": "python",
   "pygments_lexer": "ipython3",
   "version": "3.10.9"
  }
 },
 "nbformat": 4,
 "nbformat_minor": 2
}
